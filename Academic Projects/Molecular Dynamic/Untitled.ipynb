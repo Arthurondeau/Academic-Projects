{
 "cells": [
  {
   "cell_type": "code",
   "execution_count": 32,
   "id": "816bd286",
   "metadata": {},
   "outputs": [],
   "source": [
    "import numpy as np"
   ]
  },
  {
   "cell_type": "code",
   "execution_count": 33,
   "id": "62dd66b2",
   "metadata": {},
   "outputs": [],
   "source": [
    "position1 = np.array([[0,1],[2,3]])\n",
    "position2 = np.array([[3,4],[5,6],[7,6]])\n",
    "position_1_index = np.linspace(0,1,2)\n",
    "position_2_index = np.linspace(0,2,3)"
   ]
  },
  {
   "cell_type": "code",
   "execution_count": 34,
   "id": "f4480f67",
   "metadata": {},
   "outputs": [
    {
     "data": {
      "text/plain": [
       "array([0., 1.])"
      ]
     },
     "execution_count": 34,
     "metadata": {},
     "output_type": "execute_result"
    }
   ],
   "source": [
    "position_1_index"
   ]
  },
  {
   "cell_type": "code",
   "execution_count": 35,
   "id": "bbf7d928",
   "metadata": {},
   "outputs": [],
   "source": [
    "xx,yy = np.meshgrid(position_1_index,position_2_index)"
   ]
  },
  {
   "cell_type": "code",
   "execution_count": 36,
   "id": "9a376dbd",
   "metadata": {},
   "outputs": [
    {
     "data": {
      "text/plain": [
       "(array([[0., 1.],\n",
       "        [0., 1.],\n",
       "        [0., 1.]]),\n",
       " array([[0., 0.],\n",
       "        [1., 1.],\n",
       "        [2., 2.]]))"
      ]
     },
     "execution_count": 36,
     "metadata": {},
     "output_type": "execute_result"
    }
   ],
   "source": [
    "xx,yy"
   ]
  },
  {
   "cell_type": "code",
   "execution_count": 40,
   "id": "ce0bab92",
   "metadata": {},
   "outputs": [
    {
     "name": "stdout",
     "output_type": "stream",
     "text": [
      "[-3 -3]\n",
      "[-1 -1]\n",
      "[-5 -5]\n",
      "[-3 -3]\n",
      "[-7 -5]\n",
      "[-5 -3]\n"
     ]
    }
   ],
   "source": [
    "rij = []\n",
    "for i in range(np.shape(xx)[0]) : \n",
    "    for j in range(np.shape(xx)[1]) :\n",
    "        print(position1[int(xx[i][j])]-position2[int(yy[i][j])])\n",
    "        rij.append(position1[int(xx[i][j])]-position2[int(yy[i][j])])"
   ]
  },
  {
   "cell_type": "code",
   "execution_count": 41,
   "id": "da83d580",
   "metadata": {},
   "outputs": [
    {
     "name": "stdout",
     "output_type": "stream",
     "text": [
      "[array([-3, -3]), array([-1, -1]), array([-5, -5]), array([-3, -3]), array([-7, -5]), array([-5, -3])]\n"
     ]
    }
   ],
   "source": [
    "print(rij)"
   ]
  },
  {
   "cell_type": "code",
   "execution_count": null,
   "id": "6e4c466d",
   "metadata": {},
   "outputs": [],
   "source": []
  }
 ],
 "metadata": {
  "kernelspec": {
   "display_name": "Python 3 (ipykernel)",
   "language": "python",
   "name": "python3"
  },
  "language_info": {
   "codemirror_mode": {
    "name": "ipython",
    "version": 3
   },
   "file_extension": ".py",
   "mimetype": "text/x-python",
   "name": "python",
   "nbconvert_exporter": "python",
   "pygments_lexer": "ipython3",
   "version": "3.10.6"
  }
 },
 "nbformat": 4,
 "nbformat_minor": 5
}
