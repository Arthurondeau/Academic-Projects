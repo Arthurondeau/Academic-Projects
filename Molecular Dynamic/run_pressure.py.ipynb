{
 "cells": [
  {
   "cell_type": "code",
   "execution_count": null,
   "id": "fc990de2",
   "metadata": {},
   "outputs": [],
   "source": [
    "import pickle  # this is the magic to save an object to disk\n",
    "from simul import Simul\n",
    "from animatesimul import AnimateSimul\n",
    "import numpy as np\n",
    "import matplotlib.pyplot as plt\n",
    "\n",
    "def main():\n",
    "    sample_time=5\n",
    "    np.random.seed(10)  # set random numbers to be always the same\n",
    "    simulation = Simul(sample_time, sigma=0.2 , L=4,Np=15)  #  sigma particle radius # L box size\n",
    "    print(simulation.__doc__)  # print the documentation from the class\n",
    "\n",
    "    p = []\n",
    "    Mlist = []\n",
    "    N = 100\n",
    "    t = np.linspace(0,sample_time*N,N)\n",
    "    p_current, c_bool  = simulation.md_step()\n",
    "    print(c_bool)\n",
    "    while not c_bool: # tant qu'il y a des superpositions on n'enregistre pas la pression\n",
    "        p_current, c_bool  = simulation.md_step()\n",
    "        print(c_bool)\n",
    "    for i in range(N) :\n",
    "        p_current, c_bool  = simulation.md_step()\n",
    "        p.append(p_current)\n",
    "        \n",
    "    with open('p.pickle', 'wb') as file:  # this sends all the state to a file\n",
    "        pickle.dump(p,file)\n",
    "    print(\"we have saved the data to the file simul.pickle\")\n",
    "    plt.plot(t,p)\n",
    "    plt.show()\n",
    "    \n",
    "    \n",
    "if __name__ == '__main__':\n",
    "    main()\n"
   ]
  }
 ],
 "metadata": {
  "kernelspec": {
   "display_name": "Python 3 (ipykernel)",
   "language": "python",
   "name": "python3"
  },
  "language_info": {
   "codemirror_mode": {
    "name": "ipython",
    "version": 3
   },
   "file_extension": ".py",
   "mimetype": "text/x-python",
   "name": "python",
   "nbconvert_exporter": "python",
   "pygments_lexer": "ipython3",
   "version": "3.10.6"
  }
 },
 "nbformat": 4,
 "nbformat_minor": 5
}
